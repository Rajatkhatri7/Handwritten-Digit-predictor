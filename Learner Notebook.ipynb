{
 "cells": [
  {
   "cell_type": "markdown",
   "metadata": {},
   "source": [
    "# Import Libraries"
   ]
  },
  {
   "cell_type": "code",
   "execution_count": 1,
   "metadata": {},
   "outputs": [],
   "source": [
    "%matplotlib inline\n",
    "\n",
    "import tensorflow as tf\n",
    "import numpy as np\n",
    "import matplotlib.pyplot as plt"
   ]
  },
  {
   "cell_type": "markdown",
   "metadata": {},
   "source": [
    "# Download Data"
   ]
  },
  {
   "cell_type": "code",
   "execution_count": 2,
   "metadata": {},
   "outputs": [],
   "source": [
    "(x_train,y_train),(x_test,y_test)=tf.keras.datasets.mnist.load_data()"
   ]
  },
  {
   "cell_type": "code",
   "execution_count": 3,
   "metadata": {},
   "outputs": [
    {
     "name": "stdout",
     "output_type": "stream",
     "text": [
      "(60000, 28, 28)\n",
      "(10000, 28, 28)\n",
      "(60000,)\n",
      "(10000,)\n"
     ]
    }
   ],
   "source": [
    "print(x_train.shape)\n",
    "print(x_test.shape)\n",
    "print(y_train.shape)\n",
    "print(y_test.shape)"
   ]
  },
  {
   "cell_type": "code",
   "execution_count": null,
   "metadata": {},
   "outputs": [],
   "source": [
    "\n"
   ]
  },
  {
   "cell_type": "markdown",
   "metadata": {},
   "source": [
    "# Plot Examples"
   ]
  },
  {
   "cell_type": "code",
   "execution_count": 4,
   "metadata": {},
   "outputs": [
    {
     "data": {
      "image/png": "[encoded data removed]",
      "text/plain": [
       "<Figure size 720x720 with 20 Axes>"
      ]
     },
     "metadata": {},
     "output_type": "display_data"
    }
   ],
   "source": [
    "plt.figure(figsize=(10,10))\n",
    "for i in range(0,20):\n",
    "    plt.subplot(5,5,i+1)\n",
    "    plt.imshow(x_train[i],cmap=\"binary\")\n",
    "    plt.xticks([])\n",
    "    plt.yticks([])\n",
    "    plt.xlabel(str(y_train[i]))\n",
    "plt.show()    "
   ]
  },
  {
   "cell_type": "markdown",
   "metadata": {},
   "source": [
    "# Normalize Data"
   ]
  },
  {
   "cell_type": "code",
   "execution_count": 5,
   "metadata": {},
   "outputs": [],
   "source": [
    "\n",
    "#vectorizing the images in 28*28 1D vector\n",
    "x_train=x_train.reshape((60000,28*28))\n",
    "x_test=x_test.reshape((10000,28*28))\n"
   ]
  },
  {
   "cell_type": "code",
   "execution_count": 6,
   "metadata": {},
   "outputs": [
    {
     "name": "stdout",
     "output_type": "stream",
     "text": [
      "(60000, 784)\n",
      "(10000, 784)\n"
     ]
    }
   ],
   "source": [
    "print(x_train.shape)\n",
    "print(x_test.shape)"
   ]
  },
  {
   "cell_type": "code",
   "execution_count": 7,
   "metadata": {},
   "outputs": [],
   "source": [
    "#as each image is a vector having pixel range (0,255)\n",
    "#to fast the process we are normalizing the each pixel to between (0,1)\n",
    "x_train=x_train/255\n",
    "x_test=x_test/255"
   ]
  },
  {
   "cell_type": "code",
   "execution_count": 8,
   "metadata": {},
   "outputs": [
    {
     "data": {
      "text/plain": [
       "(60000, 784)"
      ]
     },
     "execution_count": 8,
     "metadata": {},
     "output_type": "execute_result"
    }
   ],
   "source": [
    "x_train.shape"
   ]
  },
  {
   "cell_type": "markdown",
   "metadata": {},
   "source": [
    "# Create a Neural Network Model"
   ]
  },
  {
   "cell_type": "code",
   "execution_count": 9,
   "metadata": {},
   "outputs": [],
   "source": [
    "model=tf.keras.models.Sequential([\n",
    "    tf.keras.layers.Dense(32,activation=\"sigmoid\",input_shape=(784,)),\n",
    "    tf.keras.layers.Dense(32,activation=\"sigmoid\"),\n",
    "    tf.keras.layers.Dense(10,activation=\"softmax\")\n",
    "])\n",
    "model.compile(\n",
    "    loss=\"sparse_categorical_crossentropy\",\n",
    "    optimizer=\"adam\",\n",
    "    metrics=[\"accuracy\"]\n",
    "\n",
    ")"
   ]
  },
  {
   "cell_type": "markdown",
   "metadata": {},
   "source": [
    "# Train the Model"
   ]
  },
  {
   "cell_type": "code",
   "execution_count": 10,
   "metadata": {},
   "outputs": [
    {
     "name": "stdout",
     "output_type": "stream",
     "text": [
      "Epoch 1/30\n",
      "110/110 [==============================] - 1s 8ms/step - loss: 1.9692 - accuracy: 0.5398 - val_loss: 1.5659 - val_accuracy: 0.6974\n",
      "Epoch 2/30\n",
      "110/110 [==============================] - 1s 7ms/step - loss: 1.2497 - accuracy: 0.7517 - val_loss: 0.9816 - val_accuracy: 0.8030\n",
      "Epoch 3/30\n",
      "110/110 [==============================] - 1s 7ms/step - loss: 0.8240 - accuracy: 0.8383 - val_loss: 0.6785 - val_accuracy: 0.8772\n",
      "Epoch 4/30\n",
      "110/110 [==============================] - 1s 7ms/step - loss: 0.5919 - accuracy: 0.8838 - val_loss: 0.5050 - val_accuracy: 0.9000\n",
      "Epoch 5/30\n",
      "110/110 [==============================] - 1s 7ms/step - loss: 0.4587 - accuracy: 0.9014 - val_loss: 0.4091 - val_accuracy: 0.9086\n",
      "Epoch 6/30\n",
      "110/110 [==============================] - 1s 7ms/step - loss: 0.3827 - accuracy: 0.9103 - val_loss: 0.3513 - val_accuracy: 0.9152\n",
      "Epoch 7/30\n",
      "110/110 [==============================] - 1s 7ms/step - loss: 0.3356 - accuracy: 0.9175 - val_loss: 0.3147 - val_accuracy: 0.9209\n",
      "Epoch 8/30\n",
      "110/110 [==============================] - 1s 6ms/step - loss: 0.3032 - accuracy: 0.9229 - val_loss: 0.2895 - val_accuracy: 0.9242\n",
      "Epoch 9/30\n",
      "110/110 [==============================] - 1s 8ms/step - loss: 0.2788 - accuracy: 0.9276 - val_loss: 0.2704 - val_accuracy: 0.9279\n",
      "Epoch 10/30\n",
      "110/110 [==============================] - 1s 8ms/step - loss: 0.2599 - accuracy: 0.9316 - val_loss: 0.2552 - val_accuracy: 0.9291\n",
      "Epoch 11/30\n",
      "110/110 [==============================] - 1s 7ms/step - loss: 0.2444 - accuracy: 0.9347 - val_loss: 0.2421 - val_accuracy: 0.9335\n",
      "Epoch 12/30\n",
      "110/110 [==============================] - 1s 7ms/step - loss: 0.2311 - accuracy: 0.9378 - val_loss: 0.2306 - val_accuracy: 0.9348\n",
      "Epoch 13/30\n",
      "110/110 [==============================] - 1s 7ms/step - loss: 0.2197 - accuracy: 0.9403 - val_loss: 0.2226 - val_accuracy: 0.9362\n",
      "Epoch 14/30\n",
      "110/110 [==============================] - 1s 8ms/step - loss: 0.2094 - accuracy: 0.9423 - val_loss: 0.2141 - val_accuracy: 0.9394\n",
      "Epoch 15/30\n",
      "110/110 [==============================] - 1s 8ms/step - loss: 0.2004 - accuracy: 0.9448 - val_loss: 0.2069 - val_accuracy: 0.9410\n",
      "Epoch 16/30\n",
      "110/110 [==============================] - 1s 7ms/step - loss: 0.1922 - accuracy: 0.9465 - val_loss: 0.1990 - val_accuracy: 0.9439\n",
      "Epoch 17/30\n",
      "110/110 [==============================] - 1s 7ms/step - loss: 0.1848 - accuracy: 0.9489 - val_loss: 0.1939 - val_accuracy: 0.9454\n",
      "Epoch 18/30\n",
      "110/110 [==============================] - 1s 7ms/step - loss: 0.1781 - accuracy: 0.9502 - val_loss: 0.1876 - val_accuracy: 0.9463\n",
      "Epoch 19/30\n",
      "110/110 [==============================] - 1s 8ms/step - loss: 0.1716 - accuracy: 0.9529 - val_loss: 0.1833 - val_accuracy: 0.9477\n",
      "Epoch 20/30\n",
      "110/110 [==============================] - 1s 7ms/step - loss: 0.1659 - accuracy: 0.9540 - val_loss: 0.1779 - val_accuracy: 0.9486\n",
      "Epoch 21/30\n",
      "110/110 [==============================] - 1s 7ms/step - loss: 0.1601 - accuracy: 0.9555 - val_loss: 0.1746 - val_accuracy: 0.9484\n",
      "Epoch 22/30\n",
      "110/110 [==============================] - 1s 6ms/step - loss: 0.1548 - accuracy: 0.9568 - val_loss: 0.1709 - val_accuracy: 0.9486\n",
      "Epoch 23/30\n",
      "110/110 [==============================] - 1s 6ms/step - loss: 0.1500 - accuracy: 0.9582 - val_loss: 0.1675 - val_accuracy: 0.9506\n",
      "Epoch 24/30\n",
      "110/110 [==============================] - 1s 7ms/step - loss: 0.1454 - accuracy: 0.9596 - val_loss: 0.1638 - val_accuracy: 0.9511\n",
      "Epoch 25/30\n",
      "110/110 [==============================] - 1s 8ms/step - loss: 0.1408 - accuracy: 0.9608 - val_loss: 0.1607 - val_accuracy: 0.9522\n",
      "Epoch 26/30\n",
      "110/110 [==============================] - 1s 7ms/step - loss: 0.1363 - accuracy: 0.9620 - val_loss: 0.1573 - val_accuracy: 0.9520\n",
      "Epoch 27/30\n",
      "110/110 [==============================] - 1s 10ms/step - loss: 0.1326 - accuracy: 0.9629 - val_loss: 0.1559 - val_accuracy: 0.9529\n",
      "Epoch 28/30\n",
      "110/110 [==============================] - 1s 6ms/step - loss: 0.1286 - accuracy: 0.9642 - val_loss: 0.1526 - val_accuracy: 0.9534\n",
      "Epoch 29/30\n",
      "110/110 [==============================] - 1s 7ms/step - loss: 0.1249 - accuracy: 0.9653 - val_loss: 0.1502 - val_accuracy: 0.9544\n",
      "Epoch 30/30\n",
      "110/110 [==============================] - 1s 8ms/step - loss: 0.1216 - accuracy: 0.9663 - val_loss: 0.1479 - val_accuracy: 0.9551\n"
     ]
    }
   ],
   "source": [
    "_=model.fit(\n",
    "           x_train,y_train,\n",
    "           validation_data=(x_test,y_test),\n",
    "           epochs=30,batch_size=548\n",
    "           )"
   ]
  },
  {
   "cell_type": "markdown",
   "metadata": {},
   "source": [
    "# Save the Model"
   ]
  },
  {
   "cell_type": "code",
   "execution_count": 11,
   "metadata": {},
   "outputs": [],
   "source": [
    "model.save(\"model.h5\")"
   ]
  },
  {
   "cell_type": "markdown",
   "metadata": {},
   "source": [
    "# ML Server"
   ]
  },
  {
   "cell_type": "code",
   "execution_count": 14,
   "metadata": {},
   "outputs": [
    {
     "name": "stdout",
     "output_type": "stream",
     "text": [
      "Overwriting ml_server.py\n"
     ]
    }
   ],
   "source": [
    "%%writefile ml_server.py\n",
    "\n",
    "import json\n",
    "import numpy as np\n",
    "import random\n",
    "from flask import Flask,request\n",
    "import tensorflow as tf\n",
    "\n",
    "\n",
    "app=Flask(__name__)\n",
    "\n",
    "model=tf.keras.models.load_model(\"model.h5\")\n",
    "#using keras api to show output of all layers\n",
    "feature_model=tf.keras.models.Model(model.inputs,\n",
    "                    [layer.output for layer in model.layers])\n",
    "\n",
    "_,(x_test,_)=tf.keras.datasets.mnist.load_data()\n",
    "\n",
    "x_test=x_test/255\n",
    "\n",
    "def get_prediction():\n",
    "    index=np.random.choice(x_test.shape[0])\n",
    "    image=x_test[index,:,:]\n",
    "    image_arr=np.reshape(image,(1,784))\n",
    "    return feature_model.predict(image_arr),image\n",
    "\n",
    "@app.route(\"/\",methods=[\"GET\",\"POST\"])\n",
    "\n",
    "def index():\n",
    "    if request.method==\"POST\":\n",
    "        preds,image=get_prediction()\n",
    "        final_prediction=[p.tolist() for p in preds]# returning json obj\n",
    "        return json.dumps({\n",
    "        \n",
    "        \"prediction\": final_prediction,\n",
    "        \"image\": image.tolist()\n",
    "    })\n",
    "    return \"welcome to server\"\n",
    "\n",
    "if __name__==\"__main__\":\n",
    "    app.run()"
   ]
  },
  {
   "cell_type": "markdown",
   "metadata": {},
   "source": [
    "# Streamlit Web App"
   ]
  },
  {
   "cell_type": "code",
   "execution_count": 18,
   "metadata": {},
   "outputs": [
    {
     "name": "stdout",
     "output_type": "stream",
     "text": [
      "Overwriting app.py\n"
     ]
    }
   ],
   "source": [
    "%%writefile app.py\n",
    "import streamlit as st\n",
    "import json\n",
    "import requests\n",
    "import matplotlib.pyplot as plt\n",
    "import numpy as np\n",
    "\n",
    "URI= \"http://127.0.0.1:5000\"\n",
    "\n",
    "st.title(\"Neural network visualizer\")\n",
    "st.sidebar.markdown(\"##input image\")\n",
    "\n",
    "if st.button(\"get random prediction\"):\n",
    "    response=requests.post(URI,data={})\n",
    "    response=json.loads(response.text)\n",
    "    preds=response.get(\"prediction\")\n",
    "    image=response.get(\"image\")\n",
    "    image=np.reshape(image,(28,28))\n",
    "    \n",
    "    st.sidebar.image(image,width=150)\n",
    "    \n",
    "    for layer ,p in enumerate(preds):\n",
    "        numbers=np.squeeze(np.array(p))\n",
    "        plt.figure(figsize=(32,4))\n",
    "        \n",
    "        if layer==2:\n",
    "            row=1\n",
    "            col=10\n",
    "        else:\n",
    "            row=2\n",
    "            col=16\n",
    "            \n",
    "        for i,number in enumerate(numbers):\n",
    "            plt.subplot(row,col,i+1)\n",
    "            plt.imshow(number*np.ones(8,8,3).astype(\"float32\"))\n",
    "            plt.xticks([])\n",
    "            plt.yticks([])\n",
    "            \n",
    "        if layer==2:\n",
    "            plt.xlabel(str(i),fontsize=40)\n",
    "        plt.subplots_adjust(wspace=0.05,hspace=0.05)\n",
    "        plt.tight_layout()\n",
    "        st.text(f\"Layer {layer+1}\")\n",
    "        st.pyplot()\n",
    "            "
   ]
  },
  {
   "cell_type": "code",
   "execution_count": null,
   "metadata": {},
   "outputs": [],
   "source": [
    "\n"
   ]
  }
 ],
 "metadata": {
  "kernelspec": {
   "display_name": "Python 3",
   "language": "python",
   "name": "python3"
  },
  "language_info": {
   "codemirror_mode": {
    "name": "ipython",
    "version": 3
   },
   "file_extension": ".py",
   "mimetype": "text/x-python",
   "name": "python",
   "nbconvert_exporter": "python",
   "pygments_lexer": "ipython3",
   "version": "3.6.9"
  }
 },
 "nbformat": 4,
 "nbformat_minor": 4
}